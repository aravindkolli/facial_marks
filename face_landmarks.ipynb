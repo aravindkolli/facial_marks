{
 "cells": [
  {
   "cell_type": "code",
   "execution_count": 1,
   "metadata": {},
   "outputs": [],
   "source": [
    "import PIL.Image\n",
    "import PIL.ImageDraw\n",
    "import face_recognition"
   ]
  },
  {
   "cell_type": "code",
   "execution_count": 2,
   "metadata": {},
   "outputs": [],
   "source": [
    "# Load the jpg file into a numpy array\n",
    "image = face_recognition.load_image_file(\"IMG_1420.jpg\")\n",
    "\n",
    "# Find all facial features in all the faces in the image\n",
    "face_landmarks_list = face_recognition.face_landmarks(image)"
   ]
  },
  {
   "cell_type": "code",
   "execution_count": 3,
   "metadata": {},
   "outputs": [
    {
     "name": "stdout",
     "output_type": "stream",
     "text": [
      "I found 4 face(s) in this photograph.\n"
     ]
    }
   ],
   "source": [
    "# Find all facial features in all the faces in the image\n",
    "face_landmarks_list = face_recognition.face_landmarks(image)\n",
    "\n",
    "number_of_faces = len(face_landmarks_list)\n",
    "print(\"I found {} face(s) in this photograph.\".format(number_of_faces))"
   ]
  },
  {
   "cell_type": "code",
   "execution_count": 4,
   "metadata": {},
   "outputs": [
    {
     "name": "stdout",
     "output_type": "stream",
     "text": [
      "The chin in this face has the following points: [(1137, 1221), (1141, 1254), (1145, 1287), (1152, 1319), (1166, 1347), (1187, 1370), (1213, 1389), (1243, 1403), (1277, 1405), (1309, 1398), (1334, 1378), (1352, 1353), (1364, 1325), (1370, 1293), (1371, 1262), (1371, 1231), (1369, 1199)]\n",
      "The left_eyebrow in this face has the following points: [(1154, 1217), (1170, 1199), (1194, 1196), (1218, 1199), (1242, 1206)]\n",
      "The right_eyebrow in this face has the following points: [(1267, 1204), (1288, 1194), (1310, 1185), (1335, 1183), (1354, 1196)]\n",
      "The nose_bridge in this face has the following points: [(1256, 1223), (1259, 1244), (1261, 1265), (1264, 1287)]\n",
      "The nose_tip in this face has the following points: [(1238, 1299), (1252, 1302), (1265, 1305), (1278, 1299), (1290, 1293)]\n",
      "The left_eye in this face has the following points: [(1181, 1226), (1195, 1217), (1212, 1217), (1228, 1228), (1211, 1233), (1194, 1233)]\n",
      "The right_eye in this face has the following points: [(1286, 1222), (1300, 1208), (1317, 1206), (1331, 1211), (1320, 1220), (1302, 1223)]\n",
      "The top_lip in this face has the following points: [(1220, 1331), (1238, 1325), (1254, 1321), (1268, 1322), (1280, 1318), (1296, 1317), (1314, 1319), (1307, 1321), (1281, 1325), (1269, 1328), (1255, 1328), (1228, 1332)]\n",
      "The bottom_lip in this face has the following points: [(1314, 1319), (1300, 1336), (1285, 1345), (1272, 1347), (1257, 1348), (1240, 1344), (1220, 1331), (1228, 1332), (1256, 1334), (1270, 1334), (1283, 1331), (1307, 1321)]\n",
      "The chin in this face has the following points: [(594, 1253), (598, 1278), (604, 1303), (611, 1328), (620, 1353), (635, 1374), (655, 1393), (680, 1408), (710, 1410), (742, 1403), (770, 1385), (794, 1363), (811, 1337), (817, 1308), (819, 1279), (819, 1248), (817, 1218)]\n",
      "The left_eyebrow in this face has the following points: [(599, 1236), (608, 1220), (626, 1214), (646, 1215), (666, 1221)]\n",
      "The right_eyebrow in this face has the following points: [(692, 1218), (713, 1205), (737, 1198), (762, 1198), (782, 1211)]\n",
      "The nose_bridge in this face has the following points: [(681, 1240), (682, 1256), (682, 1273), (682, 1290)]\n",
      "The nose_tip in this face has the following points: [(665, 1307), (676, 1310), (689, 1311), (702, 1306), (715, 1302)]\n",
      "The left_eye in this face has the following points: [(621, 1249), (632, 1241), (647, 1239), (661, 1248), (647, 1252), (633, 1253)]\n",
      "The right_eye in this face has the following points: [(717, 1240), (729, 1228), (744, 1225), (758, 1231), (747, 1238), (731, 1240)]\n",
      "The top_lip in this face has the following points: [(655, 1342), (668, 1335), (681, 1329), (694, 1330), (705, 1326), (726, 1327), (749, 1329), (742, 1333), (707, 1337), (695, 1340), (683, 1340), (662, 1343)]\n",
      "The bottom_lip in this face has the following points: [(749, 1329), (730, 1348), (712, 1355), (699, 1357), (686, 1358), (672, 1354), (655, 1342), (662, 1343), (684, 1341), (697, 1341), (709, 1339), (742, 1333)]\n",
      "The chin in this face has the following points: [(2022, 1235), (2025, 1262), (2031, 1290), (2042, 1316), (2056, 1340), (2075, 1362), (2096, 1381), (2121, 1395), (2152, 1393), (2184, 1385), (2214, 1368), (2241, 1347), (2259, 1320), (2267, 1289), (2268, 1254), (2264, 1220), (2260, 1185)]\n",
      "The left_eyebrow in this face has the following points: [(2027, 1219), (2037, 1205), (2057, 1201), (2076, 1202), (2096, 1206)]\n",
      "The right_eyebrow in this face has the following points: [(2126, 1196), (2147, 1183), (2169, 1174), (2193, 1171), (2215, 1178)]\n",
      "The nose_bridge in this face has the following points: [(2112, 1212), (2114, 1233), (2115, 1253), (2116, 1274)]\n",
      "The nose_tip in this face has the following points: [(2098, 1289), (2110, 1292), (2124, 1293), (2138, 1286), (2152, 1279)]\n",
      "The left_eye in this face has the following points: [(2050, 1225), (2061, 1214), (2075, 1211), (2090, 1219), (2077, 1223), (2062, 1226)]\n",
      "The right_eye in this face has the following points: [(2150, 1204), (2161, 1190), (2177, 1187), (2192, 1191), (2180, 1199), (2165, 1202)]\n",
      "The top_lip in this face has the following points: [(2085, 1321), (2102, 1319), (2116, 1315), (2129, 1316), (2141, 1311), (2163, 1307), (2190, 1302), (2183, 1306), (2143, 1316), (2130, 1320), (2118, 1321), (2092, 1322)]\n",
      "The bottom_lip in this face has the following points: [(2190, 1302), (2168, 1317), (2149, 1327), (2135, 1330), (2122, 1332), (2106, 1332), (2085, 1321), (2092, 1322), (2120, 1321), (2133, 1320), (2146, 1316), (2183, 1306)]\n",
      "The chin in this face has the following points: [(1643, 1295), (1647, 1320), (1653, 1345), (1661, 1370), (1674, 1395), (1692, 1417), (1714, 1434), (1740, 1446), (1770, 1446), (1801, 1437), (1826, 1419), (1846, 1398), (1860, 1371), (1865, 1341), (1863, 1310), (1858, 1280), (1853, 1252)]\n",
      "The left_eyebrow in this face has the following points: [(1652, 1278), (1661, 1263), (1678, 1256), (1697, 1254), (1716, 1259)]\n",
      "The right_eyebrow in this face has the following points: [(1736, 1253), (1755, 1242), (1776, 1235), (1799, 1236), (1818, 1247)]\n",
      "The nose_bridge in this face has the following points: [(1730, 1271), (1732, 1289), (1735, 1307), (1737, 1326)]\n",
      "The nose_tip in this face has the following points: [(1716, 1334), (1729, 1339), (1744, 1342), (1758, 1334), (1771, 1325)]\n",
      "The left_eye in this face has the following points: [(1675, 1284), (1683, 1276), (1695, 1274), (1708, 1277), (1697, 1280), (1685, 1283)]\n",
      "The right_eye in this face has the following points: [(1762, 1268), (1772, 1260), (1784, 1259), (1797, 1262), (1786, 1264), (1774, 1266)]\n",
      "The top_lip in this face has the following points: [(1708, 1371), (1720, 1359), (1736, 1353), (1749, 1352), (1761, 1347), (1780, 1346), (1800, 1351), (1794, 1352), (1763, 1353), (1750, 1356), (1737, 1359), (1714, 1370)]\n",
      "The bottom_lip in this face has the following points: [(1800, 1351), (1787, 1374), (1771, 1386), (1757, 1390), (1742, 1392), (1725, 1388), (1708, 1371), (1714, 1370), (1740, 1379), (1753, 1378), (1767, 1374), (1794, 1352)]\n"
     ]
    }
   ],
   "source": [
    "# Load the image into a Python Image Library object so that we can draw on top of it and display it\n",
    "pil_image = PIL.Image.fromarray(image)\n",
    "\n",
    "# Create a PIL drawing object to be able to draw lines later\n",
    "draw = PIL.ImageDraw.Draw(pil_image)\n",
    "\n",
    "# Loop over each face\n",
    "for face_landmarks in face_landmarks_list:\n",
    "\n",
    "    # Loop over each facial feature (eye, nose, mouth, lips, etc)\n",
    "    for name, list_of_points in face_landmarks.items():\n",
    "\n",
    "        # Print the location of each facial feature in this image\n",
    "        print(\"The {} in this face has the following points: {}\".format(name, list_of_points))\n",
    "\n",
    "        # Let's trace out each facial feature in the image with a line!\n",
    "        draw.line(list_of_points, fill=\"red\", width=2)\n",
    "\n",
    "pil_image.show()"
   ]
  }
 ],
 "metadata": {
  "kernelspec": {
   "display_name": "Python 3",
   "language": "python",
   "name": "python3"
  },
  "language_info": {
   "codemirror_mode": {
    "name": "ipython",
    "version": 3
   },
   "file_extension": ".py",
   "mimetype": "text/x-python",
   "name": "python",
   "nbconvert_exporter": "python",
   "pygments_lexer": "ipython3",
   "version": "3.7.3"
  }
 },
 "nbformat": 4,
 "nbformat_minor": 4
}
